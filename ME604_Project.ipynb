{
  "nbformat": 4,
  "nbformat_minor": 0,
  "metadata": {
    "colab": {
      "name": "ME604_Project.ipynb",
      "provenance": [],
      "authorship_tag": "ABX9TyN0/rSnQ0Ufbe6pl8C1aY3S",
      "include_colab_link": true
    },
    "kernelspec": {
      "name": "python3",
      "display_name": "Python 3"
    },
    "language_info": {
      "name": "python"
    }
  },
  "cells": [
    {
      "cell_type": "markdown",
      "metadata": {
        "id": "view-in-github",
        "colab_type": "text"
      },
      "source": [
        "<a href=\"https://colab.research.google.com/github/bhavini-jeloka/me604-robotics/blob/main/ME604_Project.ipynb\" target=\"_parent\"><img src=\"https://colab.research.google.com/assets/colab-badge.svg\" alt=\"Open In Colab\"/></a>"
      ]
    },
    {
      "cell_type": "markdown",
      "source": [
        "##Importing Files"
      ],
      "metadata": {
        "id": "4cN4-QsGy2y7"
      }
    },
    {
      "cell_type": "code",
      "execution_count": null,
      "metadata": {
        "id": "ZEsmamTvEj-x"
      },
      "outputs": [],
      "source": [
        "import numpy as np\n",
        "from math import sqrt, atan2\n",
        "import matplotlib.pyplot as plt"
      ]
    },
    {
      "cell_type": "markdown",
      "source": [
        "##Path Planning Algorithm"
      ],
      "metadata": {
        "id": "cQfG6AwJy9XP"
      }
    },
    {
      "cell_type": "code",
      "source": [
        "# known: robot radius R\n",
        "# known: obstacle radius r\n",
        "# check the boolean functions\n",
        "# check the 'self' and all\n",
        "\n",
        "class PathPlanning:\n",
        "\n",
        "  def __init__(self):\n",
        "    self.R = 0.01\n",
        "    self.r = 0.1\n",
        "    self.epsilon = 0.0001\n",
        "    self.obstaclesList = []\n",
        "    self.start = None\n",
        "    self.pseudoGoal = None\n",
        "    self.stepSize = 0.1\n",
        "    self.N = 10\n",
        "    self.workspace = None\n",
        "\n",
        "\n",
        "  def generateWP(self): \n",
        "    self.V = [self.start, self.pseudoGoal]\n",
        "    # generate waypoints\n",
        "    while len(self.V)<self.N:\n",
        "      q = self.generateSample(self.workspace) # workspace obstacle \n",
        "      if not self.insideObstacle(q) and q not in self.V: # configuration space\n",
        "        self.V.append(q)\n",
        "    # return self.V\n",
        "\n",
        "\n",
        "  def generateGraph(self): # dictionary from q what all points are accessible\n",
        "    self.generateWP()\n",
        "    self.graph = {}\n",
        "    for q in self.V:\n",
        "      E = []\n",
        "      for p in self.V:\n",
        "        if p == q:\n",
        "          continue\n",
        "        connect = self.generatePath(q,p)  # from q to p\n",
        "        if self.checkObstacleCollision(connect):\n",
        "          E.append(p)\n",
        "      self.graph[q] = E\n",
        "    # return self.graph\n",
        "\n",
        "\n",
        "  def computeDistanceTwoPoints(self, p1, p2):  \n",
        "      x1, y1 = p1[0], p1[1]\n",
        "      x2, y2 = p2[0], p2[1]\n",
        "      return sqrt((x1 - x2) ** 2 + (y1 - y2) ** 2)\n",
        "  \n",
        "\n",
        "  def angleBetweenVectors(self, v, w):\n",
        "    v = np.array(v)\n",
        "    w = np.array(w)\n",
        "    angle = 0\n",
        "    if np.linalg.norm(v)*np.linalg.norm(w) != 0.0:\n",
        "        unit_vector_1 = v / np.linalg.norm(v)\n",
        "        unit_vector_2 = w / np.linalg.norm(w)\n",
        "        dot_product = np.dot(unit_vector_1, unit_vector_2)\n",
        "        if abs(dot_product) > 1:\n",
        "            dot_product = np.sign(dot_product)*1\n",
        "        angle = np.arccos(dot_product)\n",
        "    return angle\n",
        "\n",
        "\n",
        "  def insideObstacle(self, q):\n",
        "    for obstacle in self.obstaclesList:\n",
        "      if self.computeDistanceTwoPoints(obstacle, q)<(self.r+self.R+self.epsilon):\n",
        "        return True\n",
        "    return False\n",
        "\n",
        "\n",
        "  def generatePath(self, q, p):\n",
        "    pq = np.array(p)-np.array(q)\n",
        "    pq_hat = (pq)/np.linalg.norm(pq)\n",
        "    path = []\n",
        "    stepTaker = np.array(q)\n",
        "    while self.computeDistanceTwoPoints(stepTaker, p) < self.stepSize:\n",
        "      path.append(stepTaker)\n",
        "      stepTaker = stepTaker + self.stepSize*pq_hat\n",
        "\n",
        "\n",
        "  def checkObstacleCollision(self, path):\n",
        "    for point in path:\n",
        "      if self.insideObstacle(point):\n",
        "        return True\n",
        "    return False\n",
        "\n",
        "\n",
        "  def generateSample(self):\n",
        "    # as of now rectangular workspace parallel to x-y plane [[x_min, x_max], [y_min, y_max]]\n",
        "    xLimit, yLimit = self.workspace\n",
        "    xGen = np.random.uniform(xLimit[0], xLimit[1])\n",
        "    yGen = np.random.uniform(yLimit[0], yLimit[1])\n",
        "    return (xGen, yGen)\n",
        "\n",
        "\n",
        "  def heuristic(self, q):\n",
        "    self.generateGraph()\n",
        "    deviationFromGoal = []\n",
        "    direction2goal = [self.pseudoGoal[0]-self.q[0],\n",
        "                      self.pseudoGoal[1]-self.q[1]]\n",
        "    for possibleNextPoint in self.graph[q]:\n",
        "        possibleNextStep = [self.possibleNextPoint[0]-self.q[0],\n",
        "                            self.possibleNextPoint[1]-self.q[1]]\n",
        "        deviationFromGoal.append(self.angleBetweenVectors(direction2goal, possibleNextStep))\n",
        "    i = np.argmin(deviationFromGoal)\n",
        "    return self.graph[q][i]\n",
        "\n",
        "\n",
        "  def pathSearch(self):\n",
        "    currentPos = self.start\n",
        "    optPath = [self.start]\n",
        "    while self.pseudoGoal not in optPath:\n",
        "      newPos = self.heuristic(currentPos)\n",
        "      optPath.append(newPos)\n",
        "      currentPos = newPos\n",
        "    return optPath\n"
      ],
      "metadata": {
        "id": "O46sSqfTGR0Z"
      },
      "execution_count": null,
      "outputs": []
    }
  ]
}