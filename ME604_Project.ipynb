{
  "nbformat": 4,
  "nbformat_minor": 0,
  "metadata": {
    "colab": {
      "name": "ME604_Project.ipynb",
      "provenance": [],
      "collapsed_sections": [],
      "authorship_tag": "ABX9TyMd+ehdeJCsDP8HgyUFbtI9",
      "include_colab_link": true
    },
    "kernelspec": {
      "name": "python3",
      "display_name": "Python 3"
    },
    "language_info": {
      "name": "python"
    }
  },
  "cells": [
    {
      "cell_type": "markdown",
      "metadata": {
        "id": "view-in-github",
        "colab_type": "text"
      },
      "source": [
        "<a href=\"https://colab.research.google.com/github/bhavini-jeloka/me604-robotics/blob/main/ME604_Project.ipynb\" target=\"_parent\"><img src=\"https://colab.research.google.com/assets/colab-badge.svg\" alt=\"Open In Colab\"/></a>"
      ]
    },
    {
      "cell_type": "markdown",
      "source": [
        "##Importing Files"
      ],
      "metadata": {
        "id": "4cN4-QsGy2y7"
      }
    },
    {
      "cell_type": "code",
      "execution_count": 1,
      "metadata": {
        "id": "ZEsmamTvEj-x"
      },
      "outputs": [],
      "source": [
        "import numpy as np\n",
        "from math import sqrt, atan2\n",
        "import matplotlib.pyplot as plt\n",
        "import copy"
      ]
    },
    {
      "cell_type": "markdown",
      "source": [
        "##Path Planning Algorithm"
      ],
      "metadata": {
        "id": "cQfG6AwJy9XP"
      }
    },
    {
      "cell_type": "code",
      "source": [
        "# known: robot radius R\n",
        "# known: obstacle radius r\n",
        "# check the boolean functions\n",
        "# check the 'self' and all\n",
        "\n",
        "class PathPlanning:\n",
        "\n",
        "  def __init__(self):\n",
        "    self.R = 0.1\n",
        "    self.r = 0.5\n",
        "    self.epsilon = 0.0001\n",
        "    self.obstaclesList = [[1,1], [2, 3], [4,4], [5,1]]\n",
        "    self.start = [0, 0]\n",
        "    self.pseudoGoal = [5, 5]\n",
        "    self.stepSize = 0.1\n",
        "    self.N = 50\n",
        "    self.workspace = [[0, 5], [0, 5]]\n",
        "\n",
        "\n",
        "  def generateWP(self):\n",
        "    np.random.seed(13) \n",
        "    self.V = [tuple(self.start), tuple(self.pseudoGoal)]\n",
        "    # generate waypoints\n",
        "    while len(self.V)<self.N:\n",
        "      q = self.generateSample(self.workspace) # workspace obstacle \n",
        "      if not self.insideObstacle(q) and q not in self.V: # configuration space\n",
        "        self.V.append(q)\n",
        "    # return self.V\n",
        "\n",
        "\n",
        "  def generateGraph(self): # dictionary from q what all points are accessible\n",
        "    self.generateWP()\n",
        "    self.graph = {}\n",
        "    for q in self.V:\n",
        "      E = []\n",
        "      for p in self.V:\n",
        "        if p == q:\n",
        "          continue\n",
        "        connect = self.generatePath(q,p)  # from q to p\n",
        "        if not self.checkObstacleCollision(connect):\n",
        "          E.append(p)\n",
        "      self.graph[tuple(q)] = E\n",
        "    return self.graph\n",
        "\n",
        "\n",
        "  def computeDistanceTwoPoints(self, p1, p2):  \n",
        "      x1, y1 = p1[0], p1[1]\n",
        "      x2, y2 = p2[0], p2[1]\n",
        "      return sqrt((x1 - x2) ** 2 + (y1 - y2) ** 2)\n",
        "  \n",
        "\n",
        "  def angleBetweenVectors(self, v, w):\n",
        "    v = np.array(v)\n",
        "    w = np.array(w)\n",
        "    angle = 0\n",
        "    if np.linalg.norm(v)*np.linalg.norm(w) != 0.0:\n",
        "        unit_vector_1 = v / np.linalg.norm(v)\n",
        "        unit_vector_2 = w / np.linalg.norm(w)\n",
        "        dot_product = np.dot(unit_vector_1, unit_vector_2)\n",
        "        if abs(dot_product) > 1:\n",
        "            dot_product = np.sign(dot_product)*1\n",
        "        angle = np.arccos(dot_product)\n",
        "    return angle\n",
        "\n",
        "\n",
        "  def insideObstacle(self, q):\n",
        "    for obstacle in self.obstaclesList:\n",
        "      if self.computeDistanceTwoPoints(obstacle, q)<(self.r+self.R+self.epsilon):\n",
        "        return True\n",
        "    return False\n",
        "\n",
        "\n",
        "  def generatePath(self, q, p):\n",
        "    pq = np.array(p)-np.array(q)\n",
        "    pq_hat = (pq)/np.linalg.norm(pq)\n",
        "    path = []\n",
        "    stepTaker = np.array(q)\n",
        "    while self.computeDistanceTwoPoints(stepTaker, p) > self.stepSize:\n",
        "      path.append(stepTaker)\n",
        "      stepTaker = stepTaker + self.stepSize*pq_hat\n",
        "    return path\n",
        "\n",
        "\n",
        "  def checkObstacleCollision(self, path):\n",
        "    for point in path:\n",
        "      if self.insideObstacle(point):\n",
        "        return True\n",
        "    return False\n",
        "\n",
        "\n",
        "  def generateSample(self, workspace):\n",
        "    # as of now rectangular workspace parallel to x-y plane [[x_min, x_max], [y_min, y_max]]\n",
        "    xLimit, yLimit = self.workspace\n",
        "    xGen = np.random.uniform(xLimit[0], xLimit[1])\n",
        "    yGen = np.random.uniform(yLimit[0], yLimit[1])\n",
        "    return (xGen, yGen)\n",
        "\n",
        "\n",
        "  def heuristic(self, graph, q):\n",
        "    deviationFromGoal = []\n",
        "    direction2goal = [self.pseudoGoal[0]-q[0],\n",
        "                      self.pseudoGoal[1]-q[1]]\n",
        "    for possibleNextPoint in graph[tuple(q)]:\n",
        "        possibleNextStep = [possibleNextPoint[0]-q[0],\n",
        "                            possibleNextPoint[1]-q[1]]\n",
        "        deviationFromGoal.append(self.angleBetweenVectors(direction2goal, possibleNextStep))\n",
        "    i = np.argmin(deviationFromGoal)\n",
        "    return self.graph[tuple(q)][i]\n",
        "\n",
        "\n",
        "  def pathSearch(self):\n",
        "    currentPos = self.start\n",
        "    optPath = [tuple(self.start)]\n",
        "    graph = self.generateGraph()\n",
        "    while tuple(self.pseudoGoal) not in optPath:\n",
        "      newPos = self.heuristic(graph, currentPos)\n",
        "      optPath.append(newPos)\n",
        "      currentPos = copy.copy(newPos)\n",
        "\n",
        "    # Plots    \n",
        "    VforPlot = list(zip(*self.V))\n",
        "    VforPlot_X = VforPlot[0]\n",
        "    VforPlot_Y = VforPlot[1]\n",
        "\n",
        "    PathforPlot = list(zip(*optPath))\n",
        "    PathforPlot_X = PathforPlot[0]\n",
        "    PathforPlot_Y = PathforPlot[1]\n",
        "\n",
        "    fig, ax = plt.subplots(1, 1, figsize=(7, 7), sharex=True, gridspec_kw={'hspace': 0.2})\n",
        "    circle1 = plt.Circle((1, 1), 0.5, color='r')\n",
        "    circle2 = plt.Circle((2, 3), 0.5, color='r')\n",
        "    circle3 = plt.Circle((4, 4), 0.5, color='r')\n",
        "    circle4 = plt.Circle((5, 1), 0.5, color='r')\n",
        "    ax.add_patch(circle1)\n",
        "    ax.add_patch(circle2) \n",
        "    ax.add_patch(circle3)\n",
        "    ax.add_patch(circle4) \n",
        "    ax.scatter(VforPlot_X, VforPlot_Y)\n",
        "    ax.plot(PathforPlot_X, PathforPlot_Y, 'k')\n",
        "    \n",
        "    plt.show()\n",
        "\n",
        "    return optPath\n"
      ],
      "metadata": {
        "id": "O46sSqfTGR0Z"
      },
      "execution_count": 46,
      "outputs": []
    },
    {
      "cell_type": "code",
      "source": [
        "if __name__ == '__main__':\n",
        "    bot = PathPlanning()\n",
        "    print(bot.pathSearch())"
      ],
      "metadata": {
        "colab": {
          "base_uri": "https://localhost:8080/",
          "height": 466
        },
        "id": "3c7CTZzZB1-4",
        "outputId": "bca6dad2-679b-4b4a-c975-18f5d17e0884"
      },
      "execution_count": 47,
      "outputs": [
        {
          "output_type": "display_data",
          "data": {
            "text/plain": [
              "<Figure size 504x504 with 1 Axes>"
            ],
            "image/png": "[encoded data removed]"
          },
          "metadata": {
            "needs_background": "light"
          }
        },
        {
          "output_type": "stream",
          "name": "stdout",
          "text": [
            "[(0, 0), (0.5465245403977281, 0.44126770014636996), (1.017990680777901, 0.3379944680178848), (4.566064034948215, 1.824579804431425), (5, 5)]\n"
          ]
        }
      ]
    }
  ]
}