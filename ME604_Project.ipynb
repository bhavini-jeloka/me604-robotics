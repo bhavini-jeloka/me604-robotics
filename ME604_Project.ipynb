{
  "nbformat": 4,
  "nbformat_minor": 0,
  "metadata": {
    "colab": {
      "name": "ME604_Project.ipynb",
      "provenance": [],
      "authorship_tag": "ABX9TyMeA1RCFnVnP74ra0jxr9Ro",
      "include_colab_link": true
    },
    "kernelspec": {
      "name": "python3",
      "display_name": "Python 3"
    },
    "language_info": {
      "name": "python"
    }
  },
  "cells": [
    {
      "cell_type": "markdown",
      "metadata": {
        "id": "view-in-github",
        "colab_type": "text"
      },
      "source": [
        "<a href=\"https://colab.research.google.com/github/bhavini-jeloka/me604-robotics/blob/main/ME604_Project.ipynb\" target=\"_parent\"><img src=\"https://colab.research.google.com/assets/colab-badge.svg\" alt=\"Open In Colab\"/></a>"
      ]
    },
    {
      "cell_type": "markdown",
      "source": [
        "##Importing Files"
      ],
      "metadata": {
        "id": "4cN4-QsGy2y7"
      }
    },
    {
      "cell_type": "code",
      "execution_count": null,
      "metadata": {
        "id": "ZEsmamTvEj-x"
      },
      "outputs": [],
      "source": [
        "import numpy as np\n",
        "from math import sqrt, atan2\n",
        "import matplotlib.pyplot as plt"
      ]
    },
    {
      "cell_type": "markdown",
      "source": [
        "##Path Planning Algorithm"
      ],
      "metadata": {
        "id": "cQfG6AwJy9XP"
      }
    },
    {
      "cell_type": "code",
      "source": [
        "# known: robot radius R\n",
        "# known: obstacle radius r\n",
        "# check the boolean functions\n",
        "# check the 'self' and all\n",
        "\n",
        "class PathPlanning:\n",
        "\n",
        "  def __init__(self):\n",
        "    self.R = 0.01\n",
        "    self.r = 0.1\n",
        "    self.epsilon = 0.0001\n",
        "    self.obstaclesList = []\n",
        "    self.start = None\n",
        "    self.pseudoGoal = None\n",
        "    self.stepSize = 0.1\n",
        "    self.N = 10\n",
        "    self.workspace = None\n",
        "\n",
        "\n",
        "  def generateWP(self): \n",
        "    self.V = [self.start, self.pseudoGoal]\n",
        "    # generate waypoints\n",
        "    while len(self.V)<self.N:\n",
        "      q = self.generateSample(self.workspace) # workspace obstacle \n",
        "      if not self.insideObstacle(q) and q not in self.V: # configuration space\n",
        "        self.V.append(q)\n",
        "    # return self.V\n",
        "\n",
        "\n",
        "  def generateGraph(self): # dictionary from q what all points are accessible\n",
        "    self.generateWP()\n",
        "    self.graph = {}\n",
        "    for q in self.V:\n",
        "      E = []\n",
        "      for p in self.V:\n",
        "        if p == q:\n",
        "          continue\n",
        "        connect = self.generatePath(q,p)  # from q to p\n",
        "        if self.checkObstacleCollision(connect):\n",
        "          E.append(p)\n",
        "      self.graph[q] = E\n",
        "    # return self.graph\n",
        "\n",
        "\n",
        "  def computeDistanceTwoPoints(self, p1, p2):  \n",
        "      x1, y1 = p1[0], p1[1]\n",
        "      x2, y2 = p2[0], p2[1]\n",
        "      return sqrt((x1 - x2) ** 2 + (y1 - y2) ** 2)\n",
        "  \n",
        "\n",
        "  def angleBetweenVectors(self, v, w):\n",
        "    v = np.array(v)\n",
        "    w = np.array(w)\n",
        "    angle = 0\n",
        "    if np.linalg.norm(v)*np.linalg.norm(w) != 0.0:\n",
        "        unit_vector_1 = v / np.linalg.norm(v)\n",
        "        unit_vector_2 = w / np.linalg.norm(w)\n",
        "        dot_product = np.dot(unit_vector_1, unit_vector_2)\n",
        "        if abs(dot_product) > 1:\n",
        "            dot_product = np.sign(dot_product)*1\n",
        "        angle = np.arccos(dot_product)\n",
        "    return angle\n",
        "\n",
        "\n",
        "  def insideObstacle(self, q):\n",
        "    for obstacle in self.obstaclesList:\n",
        "      if self.computeDistanceTwoPoints(obstacle, q)<(self.r+self.R+self.epsilon):\n",
        "        return True\n",
        "    return False\n",
        "\n",
        "\n",
        "  def generatePath(self, q, p):\n",
        "    pq = np.array(p)-np.array(q)\n",
        "    pq_hat = (pq)/np.linalg.norm(pq)\n",
        "    path = []\n",
        "    stepTaker = np.array(q)\n",
        "    while self.computeDistanceTwoPoints(stepTaker, p) < self.stepSize:\n",
        "      path.append(stepTaker)\n",
        "      stepTaker = stepTaker + self.stepSize*pq_hat\n",
        "\n",
        "\n",
        "  def checkObstacleCollision(self, path):\n",
        "    for point in path:\n",
        "      if self.insideObstacle(point):\n",
        "        return True\n",
        "    return False\n",
        "\n",
        "\n",
        "  def generateSample(self):\n",
        "    # as of now rectangular workspace parallel to x-y plane [[x_min, x_max], [y_min, y_max]]\n",
        "    xLimit, yLimit = self.workspace\n",
        "    xGen = np.random.uniform(xLimit[0], xLimit[1])\n",
        "    yGen = np.random.uniform(yLimit[0], yLimit[1])\n",
        "    return (xGen, yGen)\n",
        "\n",
        "\n",
        "  def heuristic(self, q):\n",
        "    self.generateGraph()\n",
        "    deviationFromGoal = []\n",
        "    direction2goal = [self.pseudoGoal[0]-self.q[0],\n",
        "                      self.pseudoGoal[1]-self.q[1]]\n",
        "    for possibleNextPoint in self.graph[q]:\n",
        "        possibleNextStep = [self.possibleNextPoint[0]-self.q[0],\n",
        "                            self.possibleNextPoint[1]-self.q[1]]\n",
        "        deviationFromGoal.append(self.angleBetweenVectors(direction2goal, possibleNextStep))\n",
        "    i = np.argmin(deviationFromGoal)\n",
        "    return self.graph[q][i]\n",
        "\n",
        "\n",
        "  def pathSearch(self):\n",
        "    currentPos = self.start\n",
        "    optPath = [self.start]\n",
        "    while self.pseudoGoal not in optPath:\n",
        "      newPos = self.heuristic(currentPos)\n",
        "      optPath.append(newPos)\n",
        "      currentPos = newPos\n",
        "    return optPath\n"
      ],
      "metadata": {
        "id": "O46sSqfTGR0Z"
      },
      "execution_count": null,
      "outputs": []
    },
    {
      "cell_type": "markdown",
      "source": [
        "## Git Authentication"
      ],
      "metadata": {
        "id": "7wQew6ypzGja"
      }
    },
    {
      "cell_type": "code",
      "source": [
        "!ssh-keygen -t rsa -b 4096"
      ],
      "metadata": {
        "colab": {
          "base_uri": "https://localhost:8080/"
        },
        "id": "b0neePP3yYgk",
        "outputId": "c0bbd5dc-56d1-451c-d7f2-9270dfad4069"
      },
      "execution_count": 16,
      "outputs": [
        {
          "output_type": "stream",
          "name": "stdout",
          "text": [
            "Generating public/private rsa key pair.\n",
            "Enter file in which to save the key (/root/.ssh/id_rsa): \n",
            "Enter passphrase (empty for no passphrase): \n",
            "Enter same passphrase again: \n",
            "Your identification has been saved in /root/.ssh/id_rsa.\n",
            "Your public key has been saved in /root/.ssh/id_rsa.pub.\n",
            "The key fingerprint is:\n",
            "SHA256:66UZXNv9vqcYg3gOQV9JxNZSjmOuxvfGw27JOGpXZ2g root@b6f97ca8773e\n",
            "The key's randomart image is:\n",
            "+---[RSA 4096]----+\n",
            "|           ooo.  |\n",
            "|           .++.  |\n",
            "|        .  .*..  |\n",
            "|       . . + .   |\n",
            "|        S o .  . |\n",
            "|       . * = .E o|\n",
            "|        * O =B.+ |\n",
            "|       . X..+=O..|\n",
            "|        +.oo.=+==|\n",
            "+----[SHA256]-----+\n"
          ]
        }
      ]
    },
    {
      "cell_type": "code",
      "source": [
        "!ssh-keyscan -t rsa github.com >> ~/.ssh/known_hosts"
      ],
      "metadata": {
        "colab": {
          "base_uri": "https://localhost:8080/"
        },
        "id": "Rpqz7uH4zSMm",
        "outputId": "004786ff-bbea-48aa-90c8-4b7bced98e89"
      },
      "execution_count": 17,
      "outputs": [
        {
          "output_type": "stream",
          "name": "stdout",
          "text": [
            "# github.com:22 SSH-2.0-babeld-4f04c79d\n"
          ]
        }
      ]
    },
    {
      "cell_type": "code",
      "source": [
        "# Add your SSH keys to github from the output of the cell below\n",
        "!cat /root/.ssh/id_rsa.pub"
      ],
      "metadata": {
        "colab": {
          "base_uri": "https://localhost:8080/"
        },
        "id": "RvCW5dyWzTtY",
        "outputId": "6492668b-7fce-401f-e30d-e9c21a52f042"
      },
      "execution_count": 18,
      "outputs": [
        {
          "output_type": "stream",
          "name": "stdout",
          "text": [
            "ssh-rsa AAAAB3NzaC1yc2EAAAADAQABAAACAQCxm3Q/Ga4jdwii9b7ICXpuRbX0VynhoN9p/fEilF1+XQmXSmwRiyh12CE0wYHvJQEvvEJ9W+YTYv6xqVQjyslDW1EWB/c6pIvjZuOzp4EenObnYT3Wb+3ACQ8ukA0hdwb14E3QWpIzBD3O9RgzGbC4h/F+Q2DFnkdZXy4Vvk47v7AzZfzkw/9aZ+cRMKgQXPGN/Ei+mXF4ztevm3rh6HN8hJaWIZYwahNAYc2m9ApeiiICyTVVnyuipSRTe5XJvLlMAKzWoPHs+b8q9zw2JqS4shryoRPSaIR379pTsw2e6OjMIeP3xyTxo2wLRnvQzACOpar6/IUilFzyKbaJWpoe2kUofzvp2yOMPbpxQfS40BgUsVLlm4/UhJsjuiVZShsPay50OZaTx2Cw+HuE3I8Vut/3ByebX/9dvrVZPrpwwbpelIsqXnMrAt6+OZ/nRwsa1GkRRqZsOhzyEM7ZFL1V10HvG+DSQl4pnT637Z3ShWY4ftRP0YHRp9DEH+g7XOR4glJWbgUinOFnRO7zjF+PuQU3HpS1mWV+vYNOWnRVLArISd1aXjYFnNLDQBK0ndYh6Bro5261PqrlxwI/5HvDHAIu0korOBAxZ0dqwKtUCrWUwHZiZJJlqiHT+O8IOujvJjFkFRbuJz9LiMPLYvUK1m7w1UKCNhrg/NUxnTUUhw== root@b6f97ca8773e\n"
          ]
        }
      ]
    },
    {
      "cell_type": "code",
      "source": [
        "# just a test\n",
        "!ssh -T git@github.com"
      ],
      "metadata": {
        "colab": {
          "base_uri": "https://localhost:8080/"
        },
        "id": "J1R5_1zqzlK0",
        "outputId": "6e1cf592-290b-43f1-d123-f8bcfef8ec51"
      },
      "execution_count": 19,
      "outputs": [
        {
          "output_type": "stream",
          "name": "stdout",
          "text": [
            "Warning: Permanently added the RSA host key for IP address '140.82.121.3' to the list of known hosts.\r\n",
            "Hi bhavini-jeloka! You've successfully authenticated, but GitHub does not provide shell access.\n"
          ]
        }
      ]
    },
    {
      "cell_type": "code",
      "source": [
        "# Configuring the user data\n",
        "!git config --global user.email \"jelokab@gmail.com\"\n",
        "!git config --global user.name \"bhavini-jeloka\""
      ],
      "metadata": {
        "id": "Z2jx2dNQzmkB"
      },
      "execution_count": 22,
      "outputs": []
    },
    {
      "cell_type": "code",
      "source": [
        "! git clone git@github.com:bhavini-jeloka/me604-robotics.git"
      ],
      "metadata": {
        "colab": {
          "base_uri": "https://localhost:8080/"
        },
        "id": "ASzTGSsfzwIT",
        "outputId": "46b47a0c-4c1c-4ba6-92ec-c575d49c093b"
      },
      "execution_count": 24,
      "outputs": [
        {
          "output_type": "stream",
          "name": "stdout",
          "text": [
            "Cloning into 'me604-robotics'...\n",
            "remote: Enumerating objects: 3, done.\u001b[K\n",
            "remote: Counting objects: 100% (3/3), done.\u001b[K\n",
            "remote: Compressing objects: 100% (2/2), done.\u001b[K\n",
            "remote: Total 3 (delta 0), reused 0 (delta 0), pack-reused 0\u001b[K\n",
            "Receiving objects: 100% (3/3), done.\n"
          ]
        }
      ]
    },
    {
      "cell_type": "code",
      "source": [
        "%cd me604-robotics/"
      ],
      "metadata": {
        "colab": {
          "base_uri": "https://localhost:8080/"
        },
        "id": "M-huRjCC0LNJ",
        "outputId": "78752f76-8560-4be0-8b49-1cb9fd580a24"
      },
      "execution_count": 28,
      "outputs": [
        {
          "output_type": "stream",
          "name": "stdout",
          "text": [
            "/content/me604-robotics\n"
          ]
        }
      ]
    },
    {
      "cell_type": "code",
      "source": [
        "! git add ."
      ],
      "metadata": {
        "id": "th09v7QF0Rbx"
      },
      "execution_count": 35,
      "outputs": []
    },
    {
      "cell_type": "code",
      "source": [
        "! git commit -m \"Add path planning algorithm\""
      ],
      "metadata": {
        "colab": {
          "base_uri": "https://localhost:8080/"
        },
        "id": "wJVs7P4y0Xkn",
        "outputId": "6fd4a174-aa33-4d4b-a0c4-defde6a087d0"
      },
      "execution_count": 36,
      "outputs": [
        {
          "output_type": "stream",
          "name": "stdout",
          "text": [
            "On branch main\n",
            "Your branch is up to date with 'origin/main'.\n",
            "\n",
            "nothing to commit, working tree clean\n"
          ]
        }
      ]
    },
    {
      "cell_type": "code",
      "source": [
        ""
      ],
      "metadata": {
        "id": "6f5ECTXN0bKy"
      },
      "execution_count": null,
      "outputs": []
    }
  ]
}